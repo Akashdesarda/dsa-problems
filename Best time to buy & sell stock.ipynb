{
 "cells": [
  {
   "metadata": {},
   "cell_type": "markdown",
   "source": [
    "# Best time to buy stock\n",
    "    - Find least price to buy\n",
    "    - After that find next best price to sell"
   ],
   "id": "105a9197e4eee3c8"
  },
  {
   "cell_type": "code",
   "id": "initial_id",
   "metadata": {
    "collapsed": true,
    "ExecuteTime": {
     "end_time": "2025-02-10T13:34:36.379618Z",
     "start_time": "2025-02-10T13:34:36.376176Z"
    }
   },
   "source": "l = [111,24,5]",
   "outputs": [],
   "execution_count": 6
  },
  {
   "metadata": {
    "ExecuteTime": {
     "end_time": "2025-02-10T13:34:45.064563Z",
     "start_time": "2025-02-10T13:34:45.060305Z"
    }
   },
   "cell_type": "code",
   "source": "max(l[1:])",
   "id": "7609ae41eeaf0591",
   "outputs": [
    {
     "data": {
      "text/plain": [
       "24"
      ]
     },
     "execution_count": 8,
     "metadata": {},
     "output_type": "execute_result"
    }
   ],
   "execution_count": 8
  },
  {
   "metadata": {
    "ExecuteTime": {
     "end_time": "2025-02-10T13:36:27.211431Z",
     "start_time": "2025-02-10T13:36:27.206639Z"
    }
   },
   "cell_type": "code",
   "source": [
    "def stock_buy_sell(nums: list):\n",
    "    buy_index = nums.index(min(nums))\n",
    "    # first check if buy is the last index\n",
    "    if buy_index == len(nums) - 1:\n",
    "        return 0\n",
    "    else:\n",
    "    # finding buy onwards best buy\n",
    "        best_sell = max(nums[buy_index:])\n",
    "        return best_sell - nums[buy_index]\n"
   ],
   "id": "9d0a5af0bbba3b01",
   "outputs": [],
   "execution_count": 9
  },
  {
   "metadata": {
    "ExecuteTime": {
     "end_time": "2025-02-10T13:37:11.307922Z",
     "start_time": "2025-02-10T13:37:11.303171Z"
    }
   },
   "cell_type": "code",
   "source": "stock_buy_sell([1,2,3,4])",
   "id": "778fcc5c7651fcae",
   "outputs": [
    {
     "data": {
      "text/plain": [
       "0"
      ]
     },
     "execution_count": 13,
     "metadata": {},
     "output_type": "execute_result"
    }
   ],
   "execution_count": 13
  },
  {
   "metadata": {},
   "cell_type": "code",
   "outputs": [],
   "execution_count": null,
   "source": "",
   "id": "cfbf60dc1c73cf56"
  }
 ],
 "metadata": {
  "kernelspec": {
   "display_name": "Python 3",
   "language": "python",
   "name": "python3"
  },
  "language_info": {
   "codemirror_mode": {
    "name": "ipython",
    "version": 2
   },
   "file_extension": ".py",
   "mimetype": "text/x-python",
   "name": "python",
   "nbconvert_exporter": "python",
   "pygments_lexer": "ipython2",
   "version": "2.7.6"
  }
 },
 "nbformat": 4,
 "nbformat_minor": 5
}
