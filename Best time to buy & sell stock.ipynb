{
 "cells": [
  {
   "cell_type": "markdown",
   "id": "105a9197e4eee3c8",
   "metadata": {},
   "source": [
    "# Best time to buy stock\n",
    "\n",
    "- Find least price to buy\n",
    "- After that find next best price to sell"
   ]
  },
  {
   "cell_type": "code",
   "execution_count": 1,
   "id": "initial_id",
   "metadata": {
    "ExecuteTime": {
     "end_time": "2025-02-10T13:34:36.379618Z",
     "start_time": "2025-02-10T13:34:36.376176Z"
    },
    "collapsed": true
   },
   "outputs": [],
   "source": [
    "l = [111,24,5]"
   ]
  },
  {
   "cell_type": "code",
   "execution_count": 2,
   "id": "7609ae41eeaf0591",
   "metadata": {
    "ExecuteTime": {
     "end_time": "2025-02-10T13:34:45.064563Z",
     "start_time": "2025-02-10T13:34:45.060305Z"
    }
   },
   "outputs": [
    {
     "data": {
      "text/plain": [
       "24"
      ]
     },
     "execution_count": 2,
     "metadata": {},
     "output_type": "execute_result"
    }
   ],
   "source": [
    "max(l[1:])"
   ]
  },
  {
   "cell_type": "markdown",
   "id": "53ac57e0",
   "metadata": {},
   "source": [
    "## Solution 1: Brute force\n",
    "\n",
    "- We need to create all possible pair of buy sell to maximize the profit starting from 1st price\n",
    "- keep initial max profit as 0\n",
    "- Use nested loop to find best possible pair "
   ]
  },
  {
   "cell_type": "code",
   "execution_count": 1,
   "id": "2cdd5818",
   "metadata": {},
   "outputs": [],
   "source": [
    "def brute_force(prices: list) -> int:\n",
    "    max_profit = 0 # initial profit\n",
    "    n = len(prices)\n",
    "\n",
    "    # Compare every pair of elements\n",
    "    for i in range(n): \n",
    "        for j in range(i+1, n):\n",
    "            profit = prices[j] - prices[i]\n",
    "            # profit must be better than the best profit so far\n",
    "            if profit > max_profit:\n",
    "                max_profit = profit\n",
    "    return max_profit"
   ]
  },
  {
   "cell_type": "code",
   "execution_count": 3,
   "id": "cfbf60dc1c73cf56",
   "metadata": {},
   "outputs": [
    {
     "data": {
      "text/plain": [
       "5"
      ]
     },
     "execution_count": 3,
     "metadata": {},
     "output_type": "execute_result"
    }
   ],
   "source": [
    "brute_force([7, 1, 5, 3, 6, 4])"
   ]
  },
  {
   "cell_type": "markdown",
   "id": "47b19bd8",
   "metadata": {},
   "source": [
    "## Solution 2: One pass approach:\n",
    "\n",
    "- Instead of using nested loop, we'll pass through the list only once.\n",
    "- Use initially max_profit as 0 & min_price as first element.\n",
    "- In the loop update\n",
    "  - If current price is less min_price, then thats becomes the min_price. This will make sure that we find best day to buy\n",
    "  - Calculate profit. If current profit beats the best profit so far then it becomes the max profit. This way we make sure we have best profit. "
   ]
  },
  {
   "cell_type": "code",
   "execution_count": 12,
   "id": "7582e7ae",
   "metadata": {},
   "outputs": [],
   "source": [
    "def single_pass(prices: list) -> int:\n",
    "    max_profit = 0 # initial profit\n",
    "    min_price = prices[0] # in the beginning, the minimum price is the first price\n",
    "\n",
    "    \n",
    "    for price in prices:\n",
    "        if price < min_price:\n",
    "            min_price = price\n",
    "        # calculating the profit\n",
    "        profit = price - min_price\n",
    "        # if current profit is better than the best profit so far, update the best profit\n",
    "        if profit > max_profit:\n",
    "            max_profit = profit\n",
    "            \n",
    "    return max_profit"
   ]
  },
  {
   "cell_type": "code",
   "execution_count": 14,
   "id": "157ca06f",
   "metadata": {},
   "outputs": [
    {
     "data": {
      "text/plain": [
       "2"
      ]
     },
     "execution_count": 14,
     "metadata": {},
     "output_type": "execute_result"
    }
   ],
   "source": [
    "single_pass([2,4,4])"
   ]
  },
  {
   "cell_type": "markdown",
   "id": "3ddd24e1",
   "metadata": {},
   "source": [
    "# Real World problem solved using Single Pass Approach\n",
    "\n",
    "- Real-Time User Activity Monitoring:\n",
    "  - Use Case: Track the most active user on a platform in real-time.\n",
    "  - Example: Identifying the user with the highest number of actions (e.g., posts, comments, likes) on a social media platform."
   ]
  },
  {
   "cell_type": "code",
   "execution_count": 47,
   "id": "860c6a25",
   "metadata": {},
   "outputs": [],
   "source": [
    "def track_user_activity(user_action: list[str]):\n",
    "    user_activity = {} # dictionary to store user level activity\n",
    "    max_activity = 0 # initial activity\n",
    "    most_active_user = None # initial most active user\n",
    "\n",
    "    for activity in user_action:\n",
    "        user, action = activity.split(':')\n",
    "\n",
    "        # if user is not in user_activity, add user and action to user_activity\n",
    "        if user in user_activity and action in user_activity[user]:\n",
    "            user_activity[user][action] += 1\n",
    "        else:\n",
    "            user_activity[user] = {action: 1}\n",
    "        # if user activity is greater than max_activity, update max_activity and most_active_user\n",
    "        if user_activity[user][action] > max_activity:\n",
    "            max_activity = user_activity[user][action]\n",
    "            most_active_user = user\n",
    "\n",
    "    return most_active_user, max_activity\n",
    "    "
   ]
  },
  {
   "cell_type": "code",
   "execution_count": 48,
   "id": "4c73bd4c",
   "metadata": {},
   "outputs": [
    {
     "data": {
      "text/plain": [
       "('user2', 2)"
      ]
     },
     "execution_count": 48,
     "metadata": {},
     "output_type": "execute_result"
    }
   ],
   "source": [
    "track_user_activity(\n",
    "    [\n",
    "        \"user1:login\",\n",
    "        \"user2:login\",\n",
    "        \"user1:logout\",\n",
    "        \"user2:post\",\n",
    "        \"user1:post\",\n",
    "        \"user2:logout\",\n",
    "        \"user3:login\",\n",
    "        \"user3:logout\",\n",
    "        \"user3:post\",\n",
    "        \"user2:comment\",\n",
    "        \"user2:comment\",\n",
    "    ]\n",
    ")"
   ]
  },
  {
   "cell_type": "code",
   "execution_count": null,
   "id": "5a606cea",
   "metadata": {},
   "outputs": [],
   "source": []
  }
 ],
 "metadata": {
  "kernelspec": {
   "display_name": "Python 3",
   "language": "python",
   "name": "python3"
  },
  "language_info": {
   "codemirror_mode": {
    "name": "ipython",
    "version": 3
   },
   "file_extension": ".py",
   "mimetype": "text/x-python",
   "name": "python",
   "nbconvert_exporter": "python",
   "pygments_lexer": "ipython3",
   "version": "3.12.1"
  }
 },
 "nbformat": 4,
 "nbformat_minor": 5
}
