{
 "cells": [
  {
   "cell_type": "markdown",
   "metadata": {},
   "source": [
    "# First missing positive:\n",
    "\n",
    "- `Problem Statement`: Given an unsorted integer array nums. Return the smallest positive integer that is not present in nums. You must implement an algorithm that runs in O(n) time and uses O(1) auxiliary space.\n",
    "\n",
    "\n",
    "    - Example 1:\n",
    "        - Input: `nums = [1,2,0]`\n",
    "        - Output: `3`\n",
    "        - Explanation: The numbers in the range `[1,2]` are all in the array.\n",
    "    \n",
    "    - Example 2:\n",
    "        - Input: `nums = [3,4,-1,1]`\n",
    "        - Output: 2\n",
    "        - Explanation: 1 is in the array but 2 is missing.\n",
    "    \n",
    "    - Example 3:\n",
    "        - Input: `nums = [7,8,9,11,12]`\n",
    "        - Output: 1\n",
    "        - Explanation: The smallest positive integer 1 is missing.\n",
    "\n",
    "\n",
    "- `Link`: [Leetcode](https://leetcode.com/problems/first-missing-positive/description/)"
   ]
  },
  {
   "cell_type": "markdown",
   "metadata": {},
   "source": [
    "# Solution 1: Sorting & Scanning\n",
    "\n",
    "- Sort the list\n",
    "- Initialize missing_pos to `1` since we need least positive number\n",
    "- Loop through the list to check\n",
    "  - If current no matches missing_pos then increase missing_pos to check if that is missing\n",
    "  - if found any greater no that it then break loop & return current missing_pos  "
   ]
  },
  {
   "cell_type": "code",
   "execution_count": 6,
   "metadata": {},
   "outputs": [],
   "source": [
    "def first_missing_positive(nums: list):\n",
    "    missing_pos = 1\n",
    "    \n",
    "    nums.sort()\n",
    "    \n",
    "    for i in nums:\n",
    "        if i == missing_pos:\n",
    "            missing_pos += 1\n",
    "        elif i > missing_pos:\n",
    "            break\n",
    "    return missing_pos"
   ]
  },
  {
   "cell_type": "code",
   "execution_count": 10,
   "metadata": {},
   "outputs": [
    {
     "data": {
      "text/plain": [
       "5"
      ]
     },
     "execution_count": 10,
     "metadata": {},
     "output_type": "execute_result"
    }
   ],
   "source": [
    "first_missing_positive([3, 4, 2, -1, 1, 0])"
   ]
  },
  {
   "cell_type": "code",
   "execution_count": null,
   "metadata": {},
   "outputs": [],
   "source": []
  }
 ],
 "metadata": {
  "kernelspec": {
   "display_name": "Python 3",
   "language": "python",
   "name": "python3"
  },
  "language_info": {
   "codemirror_mode": {
    "name": "ipython",
    "version": 3
   },
   "file_extension": ".py",
   "mimetype": "text/x-python",
   "name": "python",
   "nbconvert_exporter": "python",
   "pygments_lexer": "ipython3",
   "version": "3.12.1"
  }
 },
 "nbformat": 4,
 "nbformat_minor": 2
}
