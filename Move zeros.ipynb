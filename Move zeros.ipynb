{
 "cells": [
  {
   "cell_type": "markdown",
   "id": "bbdde2e55c2fb589",
   "metadata": {},
   "source": [
    "# Moving Zero\n",
    "\n",
    "Problem Statement: Move all zeros to the end of the list/array\n",
    "[1,0,12,4,0,9] --> [1,12,4,9,0,0]\n",
    "\n",
    "Problem link: [Leet Code](https://leetcode.com/problems/move-zeroes)"
   ]
  },
  {
   "cell_type": "markdown",
   "id": "77968d595c3d8cc6",
   "metadata": {},
   "source": [
    "## Solution 1: Use two list. \n",
    " - Store all non zeros numbers in one list & extend the list by adding zeros found in given list"
   ]
  },
  {
   "cell_type": "code",
   "execution_count": 6,
   "id": "initial_id",
   "metadata": {
    "ExecuteTime": {
     "end_time": "2025-02-09T16:55:24.485019Z",
     "start_time": "2025-02-09T16:55:24.480390Z"
    },
    "collapsed": true
   },
   "outputs": [
    {
     "name": "stdout",
     "output_type": "stream",
     "text": [
      "[1, 4, 67, 0, 0, 0]\n"
     ]
    }
   ],
   "source": [
    "input_list = [1,0,4,0,67,0]\n",
    "# getting all non zero elements\n",
    "non_zero_list = [i for i in input_list if i != 0]\n",
    "total_zeros = len(input_list) - len(non_zero_list)\n",
    "non_zero_list.extend([0] * total_zeros)\n",
    "print(non_zero_list)"
   ]
  },
  {
   "cell_type": "markdown",
   "id": "bf72a74a71507cad",
   "metadata": {},
   "source": [
    "## Solution 2: Sort with key check as condition"
   ]
  },
  {
   "cell_type": "code",
   "execution_count": 8,
   "id": "aae55b0be7fa9eb9",
   "metadata": {
    "ExecuteTime": {
     "end_time": "2025-02-09T16:57:26.651411Z",
     "start_time": "2025-02-09T16:57:26.647564Z"
    }
   },
   "outputs": [
    {
     "name": "stdout",
     "output_type": "stream",
     "text": [
      "[1, 4, 67, 0, 0, 0]\n"
     ]
    }
   ],
   "source": [
    "input_list = [1,0,4,0,67,0]\n",
    "input_list.sort(key=lambda x: x == 0)\n",
    "print(input_list)\n"
   ]
  },
  {
   "cell_type": "markdown",
   "id": "14f270b81532e25c",
   "metadata": {},
   "source": [
    "## Solution 3: \n",
    "- Iterate through all the elements & check for 0. \n",
    "- If found then pop it inside append so that it will get added at the end"
   ]
  },
  {
   "cell_type": "code",
   "execution_count": 10,
   "id": "9b7d5e3dc78aaec8",
   "metadata": {
    "ExecuteTime": {
     "end_time": "2025-02-09T17:10:31.524511Z",
     "start_time": "2025-02-09T17:10:31.520764Z"
    }
   },
   "outputs": [
    {
     "name": "stdout",
     "output_type": "stream",
     "text": [
      "[1, 4, 67, 0, 0, 0]\n"
     ]
    }
   ],
   "source": [
    "input_list = [1,0,4,0,67,0]\n",
    "for i in range(len(input_list)):\n",
    "    if input_list[i] == 0:\n",
    "        input_list.append(input_list.pop(i))\n",
    "print(input_list)"
   ]
  },
  {
   "cell_type": "markdown",
   "id": "955d6d4ae81b72b4",
   "metadata": {},
   "source": [
    "## Solution 4: Two pointer lists\n",
    "\n",
    "  - Start left pointer as 0 for non-zero element. Then start the iteration\n",
    "  - If a non-zero element is found swap left & right pointer. This will basically move the zero element to the right.\n",
    "  - Increment the left pointer"
   ]
  },
  {
   "cell_type": "code",
   "execution_count": 3,
   "id": "bb76788d52ac80cf",
   "metadata": {
    "ExecuteTime": {
     "end_time": "2025-02-09T17:16:48.041593Z",
     "start_time": "2025-02-09T17:16:48.035592Z"
    }
   },
   "outputs": [
    {
     "data": {
      "text/plain": [
       "[1, 4, 67, 0, 0, 0]"
      ]
     },
     "execution_count": 3,
     "metadata": {},
     "output_type": "execute_result"
    }
   ],
   "source": [
    "input_list = [1,0,4,0,67,0]\n",
    "left = 0  # Pointer for non-zero elements. But this pointer will be used to track current zero element\n",
    "for right in range(len(input_list)):\n",
    "    if input_list[right] != 0:\n",
    "        # Swap elements\n",
    "        input_list[left], input_list[right] = input_list[right], input_list[left]\n",
    "        left += 1\n",
    "        \n",
    "input_list"
   ]
  },
  {
   "cell_type": "markdown",
   "id": "c39738a0",
   "metadata": {},
   "source": [
    "# Real World problem solved using `Two pointer`\n",
    "\n",
    "`ELI5 definition`: We use two indices (basically two pointers) to iterate through the list. This indices can move towards each other or away or in same direction or compute required calculation if it satisfy any condition. \n",
    "\n",
    "`ELI5 Example`: Imagine you have a long line of people waiting to get into a concert. You want to find two people in the line who are standing the farthest apart but still meet certain criteria (like having the same favorite band). Instead of checking every possible pair of people, you can use two pointers to make the process faster.\n",
    "\n",
    "- `Problem`: Finding a Pair with a Given Sum:\n",
    "\n",
    "    - Use Case: Given a sorted list of numbers, find two numbers that add up to a specific target sum.\n",
    "    - Example: Finding two prices in a sorted list that add up to a gift card amount."
   ]
  },
  {
   "cell_type": "code",
   "execution_count": 21,
   "id": "c444443235fbaeb9",
   "metadata": {},
   "outputs": [],
   "source": [
    "# Use this for a situation where we want to see if two price can add up to desired gift card amount\n",
    "def find_pair_with_sum1(prices, gift_card_amount):\n",
    "    left = 0 # initial left pointer which is first index\n",
    "    right = len(prices) - 1 # initial right pointer which is last index\n",
    "    \n",
    "    # moving both pointers towards each other\n",
    "    while left < right:\n",
    "        current_sum = prices[left] + prices[right]\n",
    "        if current_sum == gift_card_amount:\n",
    "            return prices[left], prices[right]\n",
    "        elif current_sum < gift_card_amount:\n",
    "            left += 1\n",
    "        else:\n",
    "            right -= 1\n",
    "\n",
    "# Use this for a situation where a couple having same price can add up to desired gift card amount\n",
    "def find_pair_with_sum2(prices, gift_card_amount):\n",
    "    left = 0 # initial left pointer which is first index\n",
    "    right = 1 # initial right pointer which is second index\n",
    "    \n",
    "    # moving both pointers in same direction\n",
    "    while right < len(prices):\n",
    "        current_sum = prices[left] + prices[right]\n",
    "        if current_sum == gift_card_amount:\n",
    "            return prices[left], prices[right]\n",
    "        else:\n",
    "            left += 1\n",
    "            right += 1\n"
   ]
  },
  {
   "cell_type": "code",
   "execution_count": 13,
   "id": "5b6fca965e550c98",
   "metadata": {},
   "outputs": [
    {
     "data": {
      "text/plain": [
       "(30, 70)"
      ]
     },
     "execution_count": 13,
     "metadata": {},
     "output_type": "execute_result"
    }
   ],
   "source": [
    "find_pair_with_sum1([10, 20, 30, 40, 50, 60, 70], 100)"
   ]
  },
  {
   "cell_type": "code",
   "execution_count": 23,
   "id": "52e8a64d",
   "metadata": {},
   "outputs": [
    {
     "data": {
      "text/plain": [
       "(50, 60)"
      ]
     },
     "execution_count": 23,
     "metadata": {},
     "output_type": "execute_result"
    }
   ],
   "source": [
    "find_pair_with_sum2([10, 20, 30, 40, 50, 60, 70], 110)"
   ]
  },
  {
   "cell_type": "code",
   "execution_count": null,
   "id": "7825f783",
   "metadata": {},
   "outputs": [],
   "source": []
  }
 ],
 "metadata": {
  "kernelspec": {
   "display_name": "Python 3",
   "language": "python",
   "name": "python3"
  },
  "language_info": {
   "codemirror_mode": {
    "name": "ipython",
    "version": 3
   },
   "file_extension": ".py",
   "mimetype": "text/x-python",
   "name": "python",
   "nbconvert_exporter": "python",
   "pygments_lexer": "ipython3",
   "version": "3.12.1"
  }
 },
 "nbformat": 4,
 "nbformat_minor": 5
}
