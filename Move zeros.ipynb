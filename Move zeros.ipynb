{
 "cells": [
  {
   "metadata": {},
   "cell_type": "markdown",
   "source": [
    "# Moving Zero\n",
    "\n",
    "Problem Statement: Move all zeros to the end of the list/array\n",
    "[1,0,12,4,0,9] --> [1,12,4,9,0,0]\n",
    "\n",
    "Problem link: [Leet Code](https://leetcode.com/problems/move-zeroes)"
   ],
   "id": "bbdde2e55c2fb589"
  },
  {
   "metadata": {},
   "cell_type": "markdown",
   "source": "## Solution 1: Use two list. Store all non zeros numbers in one list & extend the list by adding zeros found in given list",
   "id": "77968d595c3d8cc6"
  },
  {
   "cell_type": "code",
   "id": "initial_id",
   "metadata": {
    "collapsed": true,
    "ExecuteTime": {
     "end_time": "2025-02-09T16:55:24.485019Z",
     "start_time": "2025-02-09T16:55:24.480390Z"
    }
   },
   "source": [
    "input_list = [1,0,4,0,67,0]\n",
    "# getting all non zero elements\n",
    "non_zero_list = [i for i in input_list if i != 0]\n",
    "total_zeros = len(input_list) - len(non_zero_list)\n",
    "non_zero_list.extend([0] * total_zeros)\n",
    "print(non_zero_list)"
   ],
   "outputs": [
    {
     "name": "stdout",
     "output_type": "stream",
     "text": [
      "[1, 4, 67, 0, 0, 0]\n"
     ]
    }
   ],
   "execution_count": 6
  },
  {
   "metadata": {},
   "cell_type": "markdown",
   "source": "## Solution 2: Sort with key check as condition",
   "id": "bf72a74a71507cad"
  },
  {
   "metadata": {
    "ExecuteTime": {
     "end_time": "2025-02-09T16:57:26.651411Z",
     "start_time": "2025-02-09T16:57:26.647564Z"
    }
   },
   "cell_type": "code",
   "source": [
    "input_list = [1,0,4,0,67,0]\n",
    "input_list.sort(key=lambda x: x == 0)\n",
    "print(input_list)\n"
   ],
   "id": "aae55b0be7fa9eb9",
   "outputs": [
    {
     "name": "stdout",
     "output_type": "stream",
     "text": [
      "[1, 4, 67, 0, 0, 0]\n"
     ]
    }
   ],
   "execution_count": 8
  },
  {
   "metadata": {},
   "cell_type": "markdown",
   "source": "## Solution 3: Iterate through all the elements & check for 0. If found then pop it inside append so that it will get added at the end",
   "id": "14f270b81532e25c"
  },
  {
   "metadata": {
    "ExecuteTime": {
     "end_time": "2025-02-09T17:10:31.524511Z",
     "start_time": "2025-02-09T17:10:31.520764Z"
    }
   },
   "cell_type": "code",
   "source": [
    "input_list = [1,0,4,0,67,0]\n",
    "for i in range(len(input_list)):\n",
    "    if input_list[i] == 0:\n",
    "        input_list.append(input_list.pop(i))\n",
    "print(input_list)"
   ],
   "id": "9b7d5e3dc78aaec8",
   "outputs": [
    {
     "name": "stdout",
     "output_type": "stream",
     "text": [
      "[1, 4, 67, 0, 0, 0]\n"
     ]
    }
   ],
   "execution_count": 10
  },
  {
   "metadata": {},
   "cell_type": "markdown",
   "source": [
    "## Solution 4:\n",
    "  - Two pointer lists.\n",
    "  - Start left pointer as 0 for non-zero element. Then start the iteration\n",
    "  - If a non-zero element is found swap left & right pointer. This will basically move the zero element to the right.\n",
    "  - Increment the left pointer"
   ],
   "id": "955d6d4ae81b72b4"
  },
  {
   "metadata": {
    "ExecuteTime": {
     "end_time": "2025-02-09T17:16:48.041593Z",
     "start_time": "2025-02-09T17:16:48.035592Z"
    }
   },
   "cell_type": "code",
   "source": [
    "input_list = [1,0,4,0,67,0]\n",
    "left = 0  # Pointer for non-zero elements\n",
    "for right in range(len(input_list)):\n",
    "    if input_list[right] != 0:\n",
    "        # Swap elements\n",
    "        input_list[left], input_list[right] = input_list[right], input_list[left]\n",
    "        left += 1\n",
    "input_list"
   ],
   "id": "bb76788d52ac80cf",
   "outputs": [
    {
     "data": {
      "text/plain": [
       "[1, 4, 67, 0, 0, 0]"
      ]
     },
     "execution_count": 11,
     "metadata": {},
     "output_type": "execute_result"
    }
   ],
   "execution_count": 11
  },
  {
   "metadata": {},
   "cell_type": "code",
   "outputs": [],
   "execution_count": null,
   "source": "",
   "id": "c444443235fbaeb9"
  },
  {
   "metadata": {},
   "cell_type": "code",
   "outputs": [],
   "execution_count": null,
   "source": "",
   "id": "5b6fca965e550c98"
  },
  {
   "metadata": {
    "ExecuteTime": {
     "end_time": "2025-02-09T14:15:45.194910Z",
     "start_time": "2025-02-09T14:15:45.192259Z"
    }
   },
   "cell_type": "code",
   "source": "d = [0,0,1]\n",
   "id": "a1150477fdf4d28e",
   "outputs": [],
   "execution_count": 40
  },
  {
   "metadata": {
    "ExecuteTime": {
     "end_time": "2025-02-09T13:56:51.744396Z",
     "start_time": "2025-02-09T13:56:51.740128Z"
    }
   },
   "cell_type": "code",
   "source": [
    "d.sort(key=lambda x: x == 0, reverse=True)\n",
    "d"
   ],
   "id": "614be26b2401f19c",
   "outputs": [
    {
     "data": {
      "text/plain": [
       "[0, 0, 1, 3, 12]"
      ]
     },
     "execution_count": 29,
     "metadata": {},
     "output_type": "execute_result"
    }
   ],
   "execution_count": 29
  },
  {
   "metadata": {
    "ExecuteTime": {
     "end_time": "2025-02-09T14:13:41.795827Z",
     "start_time": "2025-02-09T14:13:41.792527Z"
    }
   },
   "cell_type": "code",
   "source": [
    "for i in range(len(d)):\n",
    "    if d[i] == 0:\n",
    "        d.append(d.pop(i))"
   ],
   "id": "8c6c4075e2adcdf5",
   "outputs": [],
   "execution_count": 38
  },
  {
   "metadata": {
    "ExecuteTime": {
     "end_time": "2025-02-09T14:26:53.759763Z",
     "start_time": "2025-02-09T14:26:53.755605Z"
    }
   },
   "cell_type": "code",
   "source": "d",
   "id": "23af31b592ef37d4",
   "outputs": [
    {
     "data": {
      "text/plain": [
       "[1, 0, 0]"
      ]
     },
     "execution_count": 45,
     "metadata": {},
     "output_type": "execute_result"
    }
   ],
   "execution_count": 45
  },
  {
   "metadata": {
    "ExecuteTime": {
     "end_time": "2025-02-09T14:16:01.063049Z",
     "start_time": "2025-02-09T14:16:01.059588Z"
    }
   },
   "cell_type": "code",
   "source": [
    "n = len(d)\n",
    "for i in range(n-1, -1, -1):\n",
    "    if d[i] == 0:\n",
    "        d.append(d.pop(i))"
   ],
   "id": "acbfafa6da2aadd2",
   "outputs": [],
   "execution_count": 41
  },
  {
   "metadata": {
    "ExecuteTime": {
     "end_time": "2025-02-09T14:28:58.862842Z",
     "start_time": "2025-02-09T14:28:58.857384Z"
    }
   },
   "cell_type": "code",
   "source": [
    "nums = [0,1,0,3,12]\n",
    "for i in range(len(nums)):\n",
    "    if nums[i] == 0:\n",
    "        nums.insert(i + 1, nums.pop(i))\n",
    "\n",
    "nums"
   ],
   "id": "9ac26ae6593fc7ad",
   "outputs": [
    {
     "data": {
      "text/plain": [
       "[1, 0, 3, 12, 0]"
      ]
     },
     "execution_count": 47,
     "metadata": {},
     "output_type": "execute_result"
    }
   ],
   "execution_count": 47
  },
  {
   "metadata": {
    "ExecuteTime": {
     "end_time": "2025-02-09T14:56:37.947266Z",
     "start_time": "2025-02-09T14:50:25.748888Z"
    }
   },
   "cell_type": "code",
   "source": [
    "nums = [1,0,1]#[0,1,0,3,12]\n",
    "left = 0  # Pointer for non-zero elements\n",
    "for right in range(len(nums)):\n",
    "    if nums[right] != 0:\n",
    "        # Swap elements\n",
    "        nums[left], nums[right] = nums[right], nums[left]\n",
    "        left += 1\n",
    "nums"
   ],
   "id": "4d57c3d71d56b65c",
   "outputs": [
    {
     "data": {
      "text/plain": [
       "[1, 1, 0]"
      ]
     },
     "execution_count": 5,
     "metadata": {},
     "output_type": "execute_result"
    }
   ],
   "execution_count": 5
  }
 ],
 "metadata": {
  "kernelspec": {
   "display_name": "Python 3",
   "language": "python",
   "name": "python3"
  },
  "language_info": {
   "codemirror_mode": {
    "name": "ipython",
    "version": 2
   },
   "file_extension": ".py",
   "mimetype": "text/x-python",
   "name": "python",
   "nbconvert_exporter": "python",
   "pygments_lexer": "ipython2",
   "version": "2.7.6"
  }
 },
 "nbformat": 4,
 "nbformat_minor": 5
}
