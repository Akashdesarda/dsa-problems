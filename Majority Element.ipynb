{
 "cells": [
  {
   "metadata": {},
   "cell_type": "markdown",
   "source": [
    "# Majority element\n",
    "    - Find element that has occurance more than len(n) / 2\n",
    "    - If there is a tie then return first occuraing element"
   ],
   "id": "8ef64f47ffcb9beb"
  },
  {
   "metadata": {},
   "cell_type": "markdown",
   "source": [
    "## Solution 1: Using `collections.Counter`\n",
    "\n",
    "    - Use collections' Counter module to count all the element\n",
    "    - then use it `most_common` method to return first element\n",
    "    - Time complexity: `O(n)`"
   ],
   "id": "2c044b5e832a7c61"
  },
  {
   "metadata": {
    "ExecuteTime": {
     "end_time": "2025-02-10T07:34:10.860774Z",
     "start_time": "2025-02-10T07:34:10.855546Z"
    }
   },
   "cell_type": "code",
   "source": [
    "from collections import Counter\n",
    "l = [3,3,1,3,1,3,2,4,1,]\n",
    "print(Counter(l).most_common()[0][0])"
   ],
   "id": "72de90157568f921",
   "outputs": [
    {
     "name": "stdout",
     "output_type": "stream",
     "text": [
      "3\n"
     ]
    }
   ],
   "execution_count": 37
  },
  {
   "metadata": {},
   "cell_type": "markdown",
   "source": [
    "## Solution 2: Sorting\n",
    "    - The intution is that majority element will be always in middle\n",
    "    - Then taking the element present in middle"
   ],
   "id": "68fbce7174dd9b28"
  },
  {
   "metadata": {
    "ExecuteTime": {
     "end_time": "2025-02-10T10:57:47.971424Z",
     "start_time": "2025-02-10T10:57:47.965641Z"
    }
   },
   "cell_type": "code",
   "source": [
    "l = [3,3,1,3,1,3,2,4,1,]\n",
    "l.sort()\n",
    "print(l[len(l) // 2])"
   ],
   "id": "ead3fd349357396",
   "outputs": [
    {
     "data": {
      "text/plain": [
       "3"
      ]
     },
     "execution_count": 39,
     "metadata": {},
     "output_type": "execute_result"
    }
   ],
   "execution_count": 39
  }
 ],
 "metadata": {
  "kernelspec": {
   "display_name": "Python 3",
   "language": "python",
   "name": "python3"
  },
  "language_info": {
   "codemirror_mode": {
    "name": "ipython",
    "version": 2
   },
   "file_extension": ".py",
   "mimetype": "text/x-python",
   "name": "python",
   "nbconvert_exporter": "python",
   "pygments_lexer": "ipython2",
   "version": "2.7.6"
  }
 },
 "nbformat": 4,
 "nbformat_minor": 5
}
