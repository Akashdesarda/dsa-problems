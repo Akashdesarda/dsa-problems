{
 "cells": [
  {
   "cell_type": "code",
   "id": "initial_id",
   "metadata": {
    "collapsed": true,
    "ExecuteTime": {
     "end_time": "2025-02-10T11:41:56.784308Z",
     "start_time": "2025-02-10T11:41:56.780026Z"
    }
   },
   "source": "nums = [0,0,1,1,1,2,2,3,3,4]",
   "outputs": [],
   "execution_count": 13
  },
  {
   "metadata": {
    "ExecuteTime": {
     "end_time": "2025-02-10T11:35:51.794463Z",
     "start_time": "2025-02-10T11:35:51.791208Z"
    }
   },
   "cell_type": "code",
   "source": "nums.sort()",
   "id": "ad72f70652f31e9a",
   "outputs": [],
   "execution_count": 10
  },
  {
   "metadata": {
    "ExecuteTime": {
     "end_time": "2025-02-10T11:41:58.373868Z",
     "start_time": "2025-02-10T11:41:58.369038Z"
    }
   },
   "cell_type": "code",
   "source": "list(set(nums))",
   "id": "ce00c483cedcd31f",
   "outputs": [
    {
     "data": {
      "text/plain": [
       "[0, 1, 2, 3, 4]"
      ]
     },
     "execution_count": 14,
     "metadata": {},
     "output_type": "execute_result"
    }
   ],
   "execution_count": 14
  },
  {
   "metadata": {},
   "cell_type": "code",
   "outputs": [],
   "execution_count": null,
   "source": "",
   "id": "bec3695965df606f"
  }
 ],
 "metadata": {
  "kernelspec": {
   "display_name": "Python 3",
   "language": "python",
   "name": "python3"
  },
  "language_info": {
   "codemirror_mode": {
    "name": "ipython",
    "version": 2
   },
   "file_extension": ".py",
   "mimetype": "text/x-python",
   "name": "python",
   "nbconvert_exporter": "python",
   "pygments_lexer": "ipython2",
   "version": "2.7.6"
  }
 },
 "nbformat": 4,
 "nbformat_minor": 5
}
