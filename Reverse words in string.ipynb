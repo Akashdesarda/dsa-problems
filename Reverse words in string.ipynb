{
 "cells": [
  {
   "cell_type": "markdown",
   "metadata": {},
   "source": [
    "# Reverse Words in a String\n",
    "\n",
    "- `Problem Statement`: The words in s will be separated by at least one space. Return a string of the words in reverse order concatenated by a single space.\n",
    "\n",
    "Note that s may contain leading or trailing spaces or multiple spaces between two words. The returned string should only have a single space separating the words. Do not include any extra spaces.\n",
    "\n",
    " \n",
    "\n",
    "  - Example 1:\n",
    "    Input: s = \"the sky is blue\"\n",
    "    Output: \"blue is sky the\"\n",
    "\n",
    "  - Example 2:\n",
    "    Input: s = \"  hello world  \"\n",
    "    Output: \"world hello\"\n",
    "    Explanation: Your reversed string should not contain leading or trailing spaces.\n",
    "  \n",
    "  - Example 3:\n",
    "    Input: s = \"a good   example\"\n",
    "    Output: \"example good a\"\n",
    "    Explanation: You need to reduce multiple spaces between two words to a single space in the reversed string.\n",
    "  \n",
    "- `Link`: [LeetCode](https://leetcode.com/problems/reverse-words-in-a-string/description/)"
   ]
  },
  {
   "cell_type": "markdown",
   "metadata": {},
   "source": [
    "## Solution 1: Split + Reverse"
   ]
  },
  {
   "cell_type": "code",
   "execution_count": 2,
   "metadata": {},
   "outputs": [],
   "source": [
    "def split_and_reverse(s):\n",
    "    s = s.split()\n",
    "    s.reverse()\n",
    "    return \" \".join(s)"
   ]
  },
  {
   "cell_type": "code",
   "execution_count": 4,
   "metadata": {},
   "outputs": [
    {
     "data": {
      "text/plain": [
       "'blue is sky the'"
      ]
     },
     "execution_count": 4,
     "metadata": {},
     "output_type": "execute_result"
    }
   ],
   "source": [
    "split_and_reverse(\"the sky is blue  \")"
   ]
  }
 ],
 "metadata": {
  "kernelspec": {
   "display_name": "Python 3",
   "language": "python",
   "name": "python3"
  },
  "language_info": {
   "codemirror_mode": {
    "name": "ipython",
    "version": 3
   },
   "file_extension": ".py",
   "mimetype": "text/x-python",
   "name": "python",
   "nbconvert_exporter": "python",
   "pygments_lexer": "ipython3",
   "version": "3.12.1"
  }
 },
 "nbformat": 4,
 "nbformat_minor": 2
}
