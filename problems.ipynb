{
 "cells": [
  {
   "cell_type": "markdown",
   "id": "bfe9609d",
   "metadata": {},
   "source": [
    "# 1. Given a string verify that parenthesis are used properly"
   ]
  },
  {
   "cell_type": "code",
   "execution_count": null,
   "id": "53cc8547",
   "metadata": {},
   "outputs": [],
   "source": [
    "def check_parenthesis_single_type(a: str) -> bool:\n",
    "    stack = []\n",
    "    for i in a:\n",
    "        if i == '(':\n",
    "            stack.append(i)\n",
    "        elif i == ')':\n",
    "            if not stack:\n",
    "                return False\n",
    "            stack.pop()\n",
    "    if not stack:\n",
    "        return True\n",
    "    else:\n",
    "        return False\n",
    "        "
   ]
  },
  {
   "cell_type": "code",
   "execution_count": null,
   "id": "bd0841f5",
   "metadata": {},
   "outputs": [
    {
     "data": {
      "text/plain": [
       "False"
      ]
     },
     "execution_count": 21,
     "metadata": {},
     "output_type": "execute_result"
    }
   ],
   "source": [
    "input = \")(()\"\n",
    "check_parenthesis_single_type(input)"
   ]
  },
  {
   "cell_type": "code",
   "execution_count": 22,
   "id": "ffb18950",
   "metadata": {},
   "outputs": [],
   "source": [
    "def check_parenthesis_multiple_types(a: str) -> bool:\n",
    "    stack = []\n",
    "    opening = \"({[\"\n",
    "    closing = \")}]\"\n",
    "    matches = {')':'(', '}':'{', ']':'['}\n",
    "    for i in a:\n",
    "        if i in opening:\n",
    "            stack.append(i)\n",
    "        elif i in closing:\n",
    "            if not stack or stack.pop() != matches[i]:\n",
    "                return False\n",
    "    return not stack"
   ]
  },
  {
   "cell_type": "code",
   "execution_count": 1,
   "id": "d277d2d7",
   "metadata": {},
   "outputs": [],
   "source": [
    "def check_parenthesis_multiple_types(a: str) -> bool:\n",
    "    stack = []\n",
    "    pairs = {')': '(', '}': '{', ']': '['}\n",
    "    for i in a:\n",
    "        if i in pairs.values():\n",
    "            stack.append(i)\n",
    "        elif i in pairs.keys():\n",
    "            if not stack:\n",
    "                return False\n",
    "            t = stack.pop()\n",
    "            if pairs[i] != t:\n",
    "                return False\n",
    "    return not stack"
   ]
  },
  {
   "cell_type": "code",
   "execution_count": 3,
   "id": "359da0d4",
   "metadata": {},
   "outputs": [
    {
     "data": {
      "text/plain": [
       "False"
      ]
     },
     "execution_count": 3,
     "metadata": {},
     "output_type": "execute_result"
    }
   ],
   "source": [
    "check_parenthesis_multiple_types(\"({[{]})\")"
   ]
  },
  {
   "cell_type": "markdown",
   "id": "d55f12e2",
   "metadata": {},
   "source": [
    "# 2. Best day to buy & sell stock "
   ]
  },
  {
   "cell_type": "code",
   "execution_count": 11,
   "id": "e19f8baf",
   "metadata": {},
   "outputs": [],
   "source": [
    "# [1,3,5,7,6,9]\n",
    "def best_buy_sell_stock(a: list) -> tuple:\n",
    "    if not a:\n",
    "        return (0, 0)\n",
    "    \n",
    "    min_price = a[0]\n",
    "    max_profit, buy_day, sell_day = 0, 0, 0\n",
    "\n",
    "    for i in range(1, len(a)):\n",
    "        if a[i] < min_price:\n",
    "            min_price = a[i]\n",
    "            buy_day = i\n",
    "\n",
    "        profit = a[i] - min_price\n",
    "        if profit > max_profit:\n",
    "            max_profit = profit\n",
    "            sell_day = i\n",
    "    \n",
    "    return (buy_day, sell_day, max_profit)\n"
   ]
  },
  {
   "cell_type": "code",
   "execution_count": 12,
   "id": "9e537e94",
   "metadata": {},
   "outputs": [
    {
     "data": {
      "text/plain": [
       "(2, 4, 11)"
      ]
     },
     "execution_count": 12,
     "metadata": {},
     "output_type": "execute_result"
    }
   ],
   "source": [
    "best_buy_sell_stock([11, 13, 5, 7, 16, 9])"
   ]
  },
  {
   "cell_type": "markdown",
   "id": "81be1bd6",
   "metadata": {},
   "source": [
    "# 3. Group Anagrams"
   ]
  },
  {
   "cell_type": "code",
   "execution_count": 7,
   "id": "a2ccbe4a",
   "metadata": {},
   "outputs": [],
   "source": [
    "def group_anagrams(words: list) -> list:\n",
    "    anagrams = {}\n",
    "    for word in words:\n",
    "        sorted_word = ''.join(sorted(word))\n",
    "        if sorted_word not in anagrams:\n",
    "            anagrams[sorted_word] = []\n",
    "        anagrams[sorted_word].append(word)\n",
    "    \n",
    "    return list(anagrams.values())          "
   ]
  },
  {
   "cell_type": "code",
   "execution_count": 8,
   "id": "a704d791",
   "metadata": {},
   "outputs": [
    {
     "data": {
      "text/plain": [
       "[['eat', 'tea', 'ate'], ['tan', 'nat'], ['bat'], ['aatle', 'leaat']]"
      ]
     },
     "execution_count": 8,
     "metadata": {},
     "output_type": "execute_result"
    }
   ],
   "source": [
    "group_anagrams([\"eat\", \"tea\", \"tan\", \"ate\", \"nat\", \"bat\", \"aatle\", \"leaat\"])"
   ]
  },
  {
   "cell_type": "markdown",
   "id": "992ba6c4",
   "metadata": {},
   "source": [
    "# 4. Product of array except self"
   ]
  },
  {
   "cell_type": "code",
   "execution_count": 9,
   "id": "e99690eb",
   "metadata": {},
   "outputs": [],
   "source": [
    "def product_except_self(nums: list) -> list:\n",
    "    n = len(nums)\n",
    "    output = [1] * n\n",
    "\n",
    "    left_product = 1\n",
    "    for i in range(n):\n",
    "        output[i] = left_product\n",
    "        left_product *= nums[i]\n",
    "\n",
    "    right_product = 1\n",
    "    for i in range(n - 1, -1, -1):\n",
    "        output[i] *= right_product\n",
    "        right_product *= nums[i]\n",
    "\n",
    "    return output"
   ]
  },
  {
   "cell_type": "code",
   "execution_count": 17,
   "id": "1ed21eee",
   "metadata": {},
   "outputs": [
    {
     "data": {
      "text/plain": [
       "[24, 60, 40, 30]"
      ]
     },
     "execution_count": 17,
     "metadata": {},
     "output_type": "execute_result"
    }
   ],
   "source": [
    "product_except_self([5, 2, 3, 4])"
   ]
  },
  {
   "cell_type": "code",
   "execution_count": 24,
   "id": "c29e6665",
   "metadata": {},
   "outputs": [
    {
     "data": {
      "text/plain": [
       "[9, 8, 7, 6]"
      ]
     },
     "execution_count": 24,
     "metadata": {},
     "output_type": "execute_result"
    }
   ],
   "source": [
    "list(range(10-1, 5, -1))"
   ]
  },
  {
   "cell_type": "code",
   "execution_count": null,
   "id": "0fcd2127",
   "metadata": {},
   "outputs": [],
   "source": []
  }
 ],
 "metadata": {
  "kernelspec": {
   "display_name": "Python 3",
   "language": "python",
   "name": "python3"
  },
  "language_info": {
   "codemirror_mode": {
    "name": "ipython",
    "version": 3
   },
   "file_extension": ".py",
   "mimetype": "text/x-python",
   "name": "python",
   "nbconvert_exporter": "python",
   "pygments_lexer": "ipython3",
   "version": "3.12.1"
  }
 },
 "nbformat": 4,
 "nbformat_minor": 5
}
