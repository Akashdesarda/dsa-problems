{
 "cells": [
  {
   "cell_type": "markdown",
   "metadata": {},
   "source": [
    "# Isomorphic String\n",
    "\n",
    "Problem statement\n",
    "You have been given two strings, 'str1' and 'str2'.\n",
    "\n",
    "\n",
    "\n",
    "Your task is to return true if the given two strings are isomorphic to each other, else return false.\n",
    "\n",
    "\n",
    "\n",
    "Note :\n",
    "Two strings are isomorphic if a one-to-one mapping is possible for every character of the first string ‘str1’ to every character of the second string ‘str2’ while preserving the order of the characters.\n",
    "\n",
    "All occurrences of every character in the first string ‘str1’ should map to the same character in the second string, ‘str2’.\n",
    "For example :\n",
    "If str1 = “aab” and str2 = “xxy” then the output will be 1. ‘a’ maps to ‘x’ and ‘b’ maps to ‘y’.\n",
    "\n",
    "If str1 = “aab” and str2 = “xyz” then the output will be 0. There are two different characters in 'str1', while there are three different characters in 'str2'. So there won't be one to one mapping between 'str1' and 'str2'.\n",
    "Detailed explanation ( Input/output format, Notes, Images )\n",
    "Sample Input 1 :\n",
    "aab \n",
    "xxy\n",
    "Sample Output 1 :\n",
    "1\n",
    "Explanation of sample input 1:\n",
    "The character ‘a’ maps to ‘x’ and ‘b’ maps to ‘y’. Hence, the answer is 1 in this case.\n",
    "Sample Input 2 :\n",
    "aab\n",
    "xyz\n",
    "Sample Output 2 :\n",
    "0\n",
    "Constraints :\n",
    "1 <= |str1|, |str2| <= 10^3\n",
    "\n",
    "|str1| is the length of the string str1, and |str2| is the length of the string str2."
   ]
  },
  {
   "cell_type": "markdown",
   "metadata": {},
   "source": [
    "## Solution 1: `Collection.Counter`*\n",
    "\n",
    "- Counter will give counter of elements\n",
    "- We can compare counts of both the elements sequentially\n",
    "- **Note**: It works for `egg --> add` but not for `bbbaaaba --> aaabbbba`"
   ]
  },
  {
   "cell_type": "code",
   "execution_count": 1,
   "metadata": {},
   "outputs": [],
   "source": [
    "from collections import Counter"
   ]
  },
  {
   "cell_type": "code",
   "execution_count": 10,
   "metadata": {},
   "outputs": [],
   "source": [
    "def using_counter(s: str, t: str) -> bool:\n",
    "    s_c = Counter(s).values()\n",
    "    t_c = Counter(t).values()\n",
    "    \n",
    "    for i,j in zip(s_c, t_c):\n",
    "        if i != j:\n",
    "            return False\n",
    "    return True\n",
    "    "
   ]
  },
  {
   "cell_type": "code",
   "execution_count": 16,
   "metadata": {},
   "outputs": [
    {
     "data": {
      "text/plain": [
       "True"
      ]
     },
     "execution_count": 16,
     "metadata": {},
     "output_type": "execute_result"
    }
   ],
   "source": [
    "using_counter(\"bbbaaaba\", \"aaabbbba\")"
   ]
  },
  {
   "cell_type": "markdown",
   "metadata": {},
   "source": [
    "# Solution 2: Dict + character encoding\n",
    "\n",
    "- Create a dict which have keys as elements of string & value as its first index location\n",
    "- A list will replace all element with their first index in the same loop\n",
    "- Compare this list for both the input"
   ]
  },
  {
   "cell_type": "code",
   "execution_count": 6,
   "metadata": {},
   "outputs": [],
   "source": [
    "def dict_encode_list(s: str, t: str) -> bool:\n",
    "    def encode(string):\n",
    "        mapping = {}\n",
    "        encoded_string = []\n",
    "        for index, char in enumerate(string):\n",
    "            if char not in mapping:\n",
    "                mapping[char] = index\n",
    "            encoded_string.append(mapping[char])\n",
    "        return encoded_string\n",
    "    \n",
    "    return encode(s) == encode(t)"
   ]
  },
  {
   "cell_type": "code",
   "execution_count": 7,
   "metadata": {},
   "outputs": [
    {
     "data": {
      "text/plain": [
       "False"
      ]
     },
     "execution_count": 7,
     "metadata": {},
     "output_type": "execute_result"
    }
   ],
   "source": [
    "dict_encode_list(\"bbbaaaba\", \"aaabbbba\")"
   ]
  },
  {
   "cell_type": "markdown",
   "metadata": {},
   "source": [
    "## Solution 2(b): Dict + Set for encoding\n",
    "\n",
    "- Modify above code to make it more pythonic\n",
    "- Use of set, dict & list compression "
   ]
  },
  {
   "cell_type": "code",
   "execution_count": 10,
   "metadata": {},
   "outputs": [],
   "source": [
    "def set_encode(s: str, t: str):\n",
    "    def encode(a: str):\n",
    "        m = {i: a.find(i) for i in set(a)}\n",
    "        return [m[i] for i in a]\n",
    "    return encode(s) == encode(t)"
   ]
  },
  {
   "cell_type": "code",
   "execution_count": 12,
   "metadata": {},
   "outputs": [
    {
     "data": {
      "text/plain": [
       "True"
      ]
     },
     "execution_count": 12,
     "metadata": {},
     "output_type": "execute_result"
    }
   ],
   "source": [
    "set_encode(\"egg\", \"add\")"
   ]
  }
 ],
 "metadata": {
  "kernelspec": {
   "display_name": "Python 3",
   "language": "python",
   "name": "python3"
  },
  "language_info": {
   "codemirror_mode": {
    "name": "ipython",
    "version": 3
   },
   "file_extension": ".py",
   "mimetype": "text/x-python",
   "name": "python",
   "nbconvert_exporter": "python",
   "pygments_lexer": "ipython3",
   "version": "3.12.1"
  }
 },
 "nbformat": 4,
 "nbformat_minor": 2
}
