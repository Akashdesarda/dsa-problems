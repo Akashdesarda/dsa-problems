{
 "cells": [
  {
   "cell_type": "markdown",
   "metadata": {},
   "source": [
    "## Solution 1: `Collection.Counter`*\n",
    "\n",
    "- Counter will give counter of elements\n",
    "- We can compare counts of both the elements sequentially\n",
    "- **Note**: It works for `egg --> add` but not for `bbbaaaba --> aaabbbba`"
   ]
  },
  {
   "cell_type": "code",
   "execution_count": 1,
   "metadata": {},
   "outputs": [],
   "source": [
    "from collections import Counter"
   ]
  },
  {
   "cell_type": "code",
   "execution_count": 10,
   "metadata": {},
   "outputs": [],
   "source": [
    "def using_counter(s: str, t: str) -> bool:\n",
    "    s_c = Counter(s).values()\n",
    "    t_c = Counter(t).values()\n",
    "    \n",
    "    for i,j in zip(s_c, t_c):\n",
    "        if i != j:\n",
    "            return False\n",
    "    return True\n",
    "    "
   ]
  },
  {
   "cell_type": "code",
   "execution_count": 16,
   "metadata": {},
   "outputs": [
    {
     "data": {
      "text/plain": [
       "True"
      ]
     },
     "execution_count": 16,
     "metadata": {},
     "output_type": "execute_result"
    }
   ],
   "source": [
    "using_counter(\"bbbaaaba\", \"aaabbbba\")"
   ]
  },
  {
   "cell_type": "markdown",
   "metadata": {},
   "source": [
    "# Solution 2: Dict + character encoding\n",
    "\n",
    "- Create a dict which have keys as elements of string & value as its first index location\n",
    "- A list will replace all element with their first index in the same loop\n",
    "- Compare this list for both the input"
   ]
  },
  {
   "cell_type": "code",
   "execution_count": 6,
   "metadata": {},
   "outputs": [],
   "source": [
    "def dict_encode_list(s: str, t: str) -> bool:\n",
    "    def encode(string):\n",
    "        mapping = {}\n",
    "        encoded_string = []\n",
    "        for index, char in enumerate(string):\n",
    "            if char not in mapping:\n",
    "                mapping[char] = index\n",
    "            encoded_string.append(mapping[char])\n",
    "        return encoded_string\n",
    "    \n",
    "    return encode(s) == encode(t)"
   ]
  },
  {
   "cell_type": "code",
   "execution_count": 7,
   "metadata": {},
   "outputs": [
    {
     "data": {
      "text/plain": [
       "False"
      ]
     },
     "execution_count": 7,
     "metadata": {},
     "output_type": "execute_result"
    }
   ],
   "source": [
    "dict_encode_list(\"bbbaaaba\", \"aaabbbba\")"
   ]
  },
  {
   "cell_type": "markdown",
   "metadata": {},
   "source": [
    "## Solution 2(b): Dict + Set for encoding\n",
    "\n",
    "- Modify above code to make it more pythonic\n",
    "- Use of set, dict & list compression "
   ]
  },
  {
   "cell_type": "code",
   "execution_count": 10,
   "metadata": {},
   "outputs": [],
   "source": [
    "def set_encode(s: str, t: str):\n",
    "    def encode(a: str):\n",
    "        m = {i: a.find(i) for i in set(a)}\n",
    "        return [m[i] for i in a]\n",
    "    return encode(s) == encode(t)"
   ]
  },
  {
   "cell_type": "code",
   "execution_count": 12,
   "metadata": {},
   "outputs": [
    {
     "data": {
      "text/plain": [
       "True"
      ]
     },
     "execution_count": 12,
     "metadata": {},
     "output_type": "execute_result"
    }
   ],
   "source": [
    "set_encode(\"egg\", \"add\")"
   ]
  }
 ],
 "metadata": {
  "kernelspec": {
   "display_name": "Python 3",
   "language": "python",
   "name": "python3"
  },
  "language_info": {
   "codemirror_mode": {
    "name": "ipython",
    "version": 3
   },
   "file_extension": ".py",
   "mimetype": "text/x-python",
   "name": "python",
   "nbconvert_exporter": "python",
   "pygments_lexer": "ipython3",
   "version": "3.12.1"
  }
 },
 "nbformat": 4,
 "nbformat_minor": 2
}
