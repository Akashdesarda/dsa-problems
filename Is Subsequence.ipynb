{
 "cells": [
  {
   "cell_type": "markdown",
   "metadata": {},
   "source": [
    "# Is Sub Sequence\n",
    "\n",
    "- `Problem Statement`: Given two strings s and t, return true if s is a subsequence of t, or false otherwise. A subsequence of a string is a new string that is formed from the original string by deleting some (can be none) of the characters without disturbing the relative positions of the remaining characters. (i.e., \"ace\" is a subsequence of \"abcde\" while \"aec\" is not).\n",
    "  \n",
    "  - `Example 1`:\n",
    "  Input: s = \"abc\", t = \"ahbgdc\"\n",
    "  Output: `True`\n",
    "  \n",
    "  - `Example 2`:\n",
    "  Input: s = \"axc\", t = \"ahbgdc\"\n",
    "  Output: `False`\n",
    "  \n",
    "- `Link`: [LeetCode](https://leetcode.com/problems/is-subsequence/description/)"
   ]
  },
  {
   "cell_type": "markdown",
   "metadata": {},
   "source": [
    "## Solution 1: Two pointer approach\n",
    "- We can use two pointers to solve this problem.\n",
    "- One pointer will loop through input & other will through string to check. \n",
    "- Because we need to make sure that we are the while checking we are not disturbed the relative position\n",
    "  - First pointer will be increased only if if matches with snd one. \n",
    "  - 2nd will always move forward, so that in next round 1st one can try again\n",
    "\n",
    "**`Complexity Analysis`**\n",
    "- `Time Complexity`: `O(n)` - where n is the length of string t. We iterate through t only once.\n",
    "- `Space Complexity`: `O(1)` - We use a constant amount of extra space for pointers."
   ]
  },
  {
   "cell_type": "code",
   "execution_count": 1,
   "metadata": {},
   "outputs": [],
   "source": [
    "def two_pointers(s: str, t: str) -> bool:\n",
    "    pt_1, pt_2 = 0, 0 # Initial pointer position\n",
    "    \n",
    "    # looping through the string\n",
    "    while pt_1 < len(s) and pt_2 < len(t):\n",
    "        # If the characters are equal, move the first pointer\n",
    "        if s[pt_1] == t[pt_2]:\n",
    "            pt_1 += 1\n",
    "        # always move the second pointer\n",
    "        pt_2 += 1\n",
    "    \n",
    "    # If the first pointer is at the end of the string, return True\n",
    "    return pt_1 == len(s)"
   ]
  },
  {
   "cell_type": "code",
   "execution_count": 7,
   "metadata": {},
   "outputs": [
    {
     "data": {
      "text/plain": [
       "(True, False)"
      ]
     },
     "execution_count": 7,
     "metadata": {},
     "output_type": "execute_result"
    }
   ],
   "source": [
    "two_pointers(\"abc\", \"ahbcgd\"), two_pointers(\"bcd\", \"ahbgdc\")"
   ]
  },
  {
   "cell_type": "code",
   "execution_count": null,
   "metadata": {},
   "outputs": [],
   "source": []
  }
 ],
 "metadata": {
  "kernelspec": {
   "display_name": "Python 3",
   "language": "python",
   "name": "python3"
  },
  "language_info": {
   "codemirror_mode": {
    "name": "ipython",
    "version": 3
   },
   "file_extension": ".py",
   "mimetype": "text/x-python",
   "name": "python",
   "nbconvert_exporter": "python",
   "pygments_lexer": "ipython3",
   "version": "3.12.1"
  }
 },
 "nbformat": 4,
 "nbformat_minor": 2
}
