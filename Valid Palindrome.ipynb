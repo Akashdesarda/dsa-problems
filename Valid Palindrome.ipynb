{
 "cells": [
  {
   "cell_type": "markdown",
   "metadata": {},
   "source": [
    "# Valid Palindrome \n",
    "\n",
    "- `Problem Statement`: The essence of this problem is to check if a given string, after cleaning up non-alphanumeric characters, is a palindrome. A palindrome reads the same forward and backward.\n",
    "\n",
    "- `Example`: A man, a plan, a canal: Panama # True"
   ]
  },
  {
   "cell_type": "markdown",
   "metadata": {},
   "source": [
    "## Solution 1: List reverse\n",
    "\n",
    "- Clean up the string to remove whitespace, punctuation, etc\n",
    "- reverse the list\n",
    "- compare with input"
   ]
  },
  {
   "cell_type": "code",
   "execution_count": 3,
   "metadata": {},
   "outputs": [],
   "source": [
    "def list_reverse(word: str) -> str:\n",
    "    # cleaning the string\n",
    "    a = word.lower().replace(\" \",\"\")\n",
    "    a = [i for i in a if i.isalpha()]\n",
    "    _a = a.copy()\n",
    "    a.reverse()\n",
    "    return \"\".join(a) == \"\".join(_a)"
   ]
  },
  {
   "cell_type": "code",
   "execution_count": 11,
   "metadata": {},
   "outputs": [
    {
     "data": {
      "text/plain": [
       "(True, False)"
      ]
     },
     "execution_count": 11,
     "metadata": {},
     "output_type": "execute_result"
    }
   ],
   "source": [
    "list_reverse(\"A man, a plan, a canal: Panama\"), list_reverse(\"A man, a plan, a canal: Panama wrong word\")"
   ]
  },
  {
   "cell_type": "markdown",
   "metadata": {},
   "source": [
    "## Solution 2: Two pointer approach"
   ]
  },
  {
   "cell_type": "code",
   "execution_count": 7,
   "metadata": {},
   "outputs": [],
   "source": [
    "def two_pointer(word: str) -> str:\n",
    "    # cleaning the string\n",
    "    a = word.lower().replace(\" \",\"\")\n",
    "    a = [i for i in a if i.isalpha()]\n",
    "    pt_1, pt_2 = 0, len(a) - 1 # initial pointer position\n",
    "    # moving both the pointer towards each other\n",
    "    while pt_1 < pt_2:\n",
    "        if a[pt_1] != a[pt_2]:\n",
    "            return False\n",
    "        pt_1 += 1\n",
    "        pt_2 -= 1\n",
    "    return True "
   ]
  },
  {
   "cell_type": "code",
   "execution_count": 12,
   "metadata": {},
   "outputs": [
    {
     "data": {
      "text/plain": [
       "(True, False)"
      ]
     },
     "execution_count": 12,
     "metadata": {},
     "output_type": "execute_result"
    }
   ],
   "source": [
    "two_pointer(\"A man, a plan, a canal: Panama\"), two_pointer(\"A man, a plan, a canal: Panama wrong word\")"
   ]
  }
 ],
 "metadata": {
  "kernelspec": {
   "display_name": "Python 3",
   "language": "python",
   "name": "python3"
  },
  "language_info": {
   "codemirror_mode": {
    "name": "ipython",
    "version": 3
   },
   "file_extension": ".py",
   "mimetype": "text/x-python",
   "name": "python",
   "nbconvert_exporter": "python",
   "pygments_lexer": "ipython3",
   "version": "3.12.1"
  }
 },
 "nbformat": 4,
 "nbformat_minor": 2
}
