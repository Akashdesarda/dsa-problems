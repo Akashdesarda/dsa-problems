{
 "cells": [
  {
   "cell_type": "markdown",
   "metadata": {},
   "source": [
    "# Container With Most Water\n",
    "\n",
    "- `Problem`: You are given an integer array height of length n. There are n vertical lines drawn such that the two endpoints of the ith line are (i, 0) and (i, height[i]). Find two lines that together with the x-axis form a container, such that the container contains the most water. Return the maximum amount of water a container can store.\n",
    "\n",
    "Notice that you may not slant the container.\n",
    "\n",
    "\n",
    "```Plaintext\n",
    "Example 1:\n",
    "\n",
    "\n",
    "Input: height = [1,8,6,2,5,4,8,3,7]\n",
    "Output: 49\n",
    "Explanation: The above vertical lines are represented by array [1,8,6,2,5,4,8,3,7]. In this case, the max area of water (blue section) the container can contain is 49.\n",
    "Example 2:\n",
    "\n",
    "Input: height = [1,1]\n",
    "Output: 1\n",
    "```\n",
    "\n",
    "- `link` : [Leetcode](https://leetcode.com/problems/container-with-most-water/description/)\n",
    "- `link` : [Coding Ninjas](https://www.naukri.com/code360/problems/container-with-most-water_873860?interviewProblemRedirection=true&search=Container%20With%20Most%20Water&leftPanelTabValue=PROBLEM)"
   ]
  },
  {
   "cell_type": "markdown",
   "metadata": {},
   "source": [
    "## Solution 1: Two Pointer Approach\n",
    "\n",
    "- We take two pointers, one at the beginning and one at the end of the array constituting the length of the lines. \n",
    "- Maintain a variable `max_area` to store the maximum area obtained till now. \n",
    "- At every step, we find out the area formed between them, update `max_area` and move the pointer pointing to the shorter line towards the other end by one step.\n",
    "  - Imp point is height must be minimum of both the heights. Since if we choose the bigger height then water will spill out."
   ]
  },
  {
   "cell_type": "code",
   "execution_count": 2,
   "metadata": {},
   "outputs": [],
   "source": [
    "def two_pointer(heights: list[int]):\n",
    "    n = len(heights)\n",
    "    l_pt, r_pt = 0, n - 1 # Initialize two pointer from opposite end\n",
    "    max_area = 0 # Initial area is kept as zero\n",
    "\n",
    "    while l_pt < r_pt:\n",
    "        height = min(heights[l_pt], heights[r_pt])\n",
    "        width = r_pt - l_pt # since right pointer will be always bigger as its moving from end to front\n",
    "        area = height * width\n",
    "        max_area = max(max_area, area)\n",
    "\n",
    "        if heights[r_pt] < heights[l_pt]:\n",
    "            r_pt -=1\n",
    "        else:\n",
    "            l_pt +=1\n",
    "    \n",
    "    return max_area\n",
    "\n",
    "\n"
   ]
  },
  {
   "cell_type": "code",
   "execution_count": 3,
   "metadata": {},
   "outputs": [
    {
     "data": {
      "text/plain": [
       "49"
      ]
     },
     "execution_count": 3,
     "metadata": {},
     "output_type": "execute_result"
    }
   ],
   "source": [
    "two_pointer([1, 8, 6, 2, 5, 4, 8, 3, 7])"
   ]
  }
 ],
 "metadata": {
  "kernelspec": {
   "display_name": "base",
   "language": "python",
   "name": "python3"
  },
  "language_info": {
   "codemirror_mode": {
    "name": "ipython",
    "version": 3
   },
   "file_extension": ".py",
   "mimetype": "text/x-python",
   "name": "python",
   "nbconvert_exporter": "python",
   "pygments_lexer": "ipython3",
   "version": "3.13.1"
  }
 },
 "nbformat": 4,
 "nbformat_minor": 2
}
